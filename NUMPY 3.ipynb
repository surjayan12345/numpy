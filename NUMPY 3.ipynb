{
 "cells": [
  {
   "cell_type": "code",
   "execution_count": 1,
   "metadata": {},
   "outputs": [],
   "source": [
    "import numpy as np"
   ]
  },
  {
   "cell_type": "code",
   "execution_count": 2,
   "metadata": {},
   "outputs": [
    {
     "data": {
      "text/plain": [
       "array([[ 0,  1,  2,  3,  4],\n",
       "       [ 5,  6,  7,  8,  9],\n",
       "       [10, 11, 12, 13, 14],\n",
       "       [15, 16, 17, 18, 19],\n",
       "       [20, 21, 22, 23, 24],\n",
       "       [25, 26, 27, 28, 29],\n",
       "       [30, 31, 32, 33, 34],\n",
       "       [35, 36, 37, 38, 39]])"
      ]
     },
     "execution_count": 2,
     "metadata": {},
     "output_type": "execute_result"
    }
   ],
   "source": [
    "# Setup for questions 1 and 2\n",
    "arr1=np.arange(40).reshape(8,5)\n",
    "arr1"
   ]
  },
  {
   "cell_type": "code",
   "execution_count": 3,
   "metadata": {},
   "outputs": [],
   "source": [
    "# Q1. From arr1 you have to fetch out every alternate column starting from col1"
   ]
  },
  {
   "cell_type": "code",
   "execution_count": 4,
   "metadata": {},
   "outputs": [],
   "source": [
    " #Q2. From arr1 fetch an array which would contain {0,2,4} {15,17,19} and {30,32,34}"
   ]
  },
  {
   "cell_type": "code",
   "execution_count": 6,
   "metadata": {},
   "outputs": [
    {
     "data": {
      "text/plain": [
       "array([[2448, 6746,  141, 6282, 5795],\n",
       "       [3934,  512, 2040, 2670, 1636]])"
      ]
     },
     "execution_count": 6,
     "metadata": {},
     "output_type": "execute_result"
    }
   ],
   "source": [
    "# Setup for question\n",
    "\n",
    "# Generating a random numpy array of intergers ranging between 1 and 10000\n",
    "\n",
    "arr2=np.random.randint(low=1, high=10000, size=10).reshape(2,5)\n",
    "arr2"
   ]
  },
  {
   "cell_type": "code",
   "execution_count": 7,
   "metadata": {},
   "outputs": [
    {
     "data": {
      "text/plain": [
       "9.75"
      ]
     },
     "execution_count": 7,
     "metadata": {},
     "output_type": "execute_result"
    }
   ],
   "source": [
    "# Q3. Write a code to normalize arr2.\n",
    "np.percentile(arr1,25)\n"
   ]
  },
  {
   "cell_type": "code",
   "execution_count": 8,
   "metadata": {},
   "outputs": [],
   "source": [
    "\n",
    "# Q4. How would you check if your numpy array has some missing values?"
   ]
  },
  {
   "cell_type": "code",
   "execution_count": 9,
   "metadata": {},
   "outputs": [],
   "source": [
    "\n",
    "# Q5. Write a function which will accept 2 arguments.\n",
    "# First: A 1D numpy array arr\n",
    "# Second: An integer n {Please make sure n<=len(arr)}\n",
    "\n",
    "# Output: The output should be the nth largest item out of the array\n",
    "\n",
    "# Example1 : arr=(12,34,40,7,1,0) and n=3, the output should be 12\n",
    "# Example2 : arr=(12,34,40,7,1,0) and n=1, the output should be 40"
   ]
  },
  {
   "cell_type": "code",
   "execution_count": 10,
   "metadata": {},
   "outputs": [],
   "source": [
    "#FROM HERE THE ANSWER STARTS"
   ]
  },
  {
   "cell_type": "code",
   "execution_count": 12,
   "metadata": {},
   "outputs": [
    {
     "data": {
      "text/plain": [
       "array([[ 0,  2,  4],\n",
       "       [ 5,  7,  9],\n",
       "       [10, 12, 14],\n",
       "       [15, 17, 19],\n",
       "       [20, 22, 24],\n",
       "       [25, 27, 29],\n",
       "       [30, 32, 34],\n",
       "       [35, 37, 39]])"
      ]
     },
     "execution_count": 12,
     "metadata": {},
     "output_type": "execute_result"
    }
   ],
   "source": [
    "\n",
    "#Q1. From arr1 you have to fetch out every alternate column starting from col1\n",
    "#ans1: \n",
    "#Using slicing in index \n",
    "q1=arr1[:,0::2]\n",
    "\n",
    "q1"
   ]
  },
  {
   "cell_type": "code",
   "execution_count": 13,
   "metadata": {},
   "outputs": [
    {
     "data": {
      "text/plain": [
       "array([[ 0,  1,  2,  3,  4],\n",
       "       [ 5,  6,  7,  8,  9],\n",
       "       [10, 11, 12, 13, 14],\n",
       "       [15, 16, 17, 18, 19],\n",
       "       [20, 21, 22, 23, 24],\n",
       "       [25, 26, 27, 28, 29],\n",
       "       [30, 31, 32, 33, 34],\n",
       "       [35, 36, 37, 38, 39]])"
      ]
     },
     "execution_count": 13,
     "metadata": {},
     "output_type": "execute_result"
    }
   ],
   "source": [
    "arr1"
   ]
  },
  {
   "cell_type": "code",
   "execution_count": 14,
   "metadata": {},
   "outputs": [
    {
     "data": {
      "text/plain": [
       "array([[ 0,  2,  4],\n",
       "       [15, 17, 19],\n",
       "       [30, 32, 34]])"
      ]
     },
     "execution_count": 14,
     "metadata": {},
     "output_type": "execute_result"
    }
   ],
   "source": [
    "# Q2. From arr1 fetch an array which would contain {0,2,4} {15,17,19} and {30,32,34} \n",
    "#ans2: \n",
    "# {0,2,4}-- 1st,3nd and 5th column, that is alternate column from 1st col.\n",
    "# {0,15,30}-- 1st, 4th and 6th row, that is gap of 2 from 1st row\n",
    "# combining both will give our result\n",
    "q2=arr1[::3,::2]\n",
    "q2"
   ]
  },
  {
   "cell_type": "code",
   "execution_count": 15,
   "metadata": {},
   "outputs": [
    {
     "data": {
      "text/plain": [
       "array([[6000, 2530, 4409,  167, 3510],\n",
       "       [4500, 8839, 1650, 4260, 4486]])"
      ]
     },
     "execution_count": 15,
     "metadata": {},
     "output_type": "execute_result"
    }
   ],
   "source": [
    "\n",
    "# Setup for question\n",
    "\n",
    "# Generating a random numpy array of intergers ranging between 1 and 10000\n",
    "\n",
    "arr2=np.random.randint(low=1, high=10000, size=10).reshape(2,5)\n",
    "arr2"
   ]
  },
  {
   "cell_type": "code",
   "execution_count": 16,
   "metadata": {},
   "outputs": [
    {
     "data": {
      "text/plain": [
       "array([[0.67880982, 0.28623147, 0.49881208, 0.01889354, 0.39710374],\n",
       "       [0.50910737, 1.        , 0.1866727 , 0.48195497, 0.50752348]])"
      ]
     },
     "execution_count": 16,
     "metadata": {},
     "output_type": "execute_result"
    }
   ],
   "source": [
    "# Q3. Write a code to normalize arr2.\n",
    "# There are many method of Normalising-- simple, min-max, z-score or standard score\n",
    "# Here below i have done by method Simple Feature scaling that is-- Xnew=Xold/Xmax\n",
    "max=arr2.max()\n",
    "min=arr2.min()\n",
    "narray=arr2/max\n",
    "narray"
   ]
  },
  {
   "cell_type": "code",
   "execution_count": 17,
   "metadata": {},
   "outputs": [
    {
     "data": {
      "text/plain": [
       "array([[0.67262454, 0.27248616, 0.48916052, 0.        , 0.38549354],\n",
       "       [0.49965406, 1.        , 0.17101015, 0.47197878, 0.49803967]])"
      ]
     },
     "execution_count": 17,
     "metadata": {},
     "output_type": "execute_result"
    }
   ],
   "source": [
    "# method 2:- \n",
    "# Ans:- Excepted answer for \n",
    "# Formula as given in above example explanation that is-- Xnew=(Xold-Xmin)/(Xmax-Xmin)\n",
    "# Min-Max method--\n",
    "mmarray=(arr2-min)/(max-min)\n",
    "mmarray"
   ]
  },
  {
   "cell_type": "code",
   "execution_count": 18,
   "metadata": {},
   "outputs": [
    {
     "data": {
      "text/plain": [
       "array([[ 0.87229812, -0.66817441,  0.16598924, -1.71720512, -0.233113  ],\n",
       "       [ 0.2063878 ,  2.13264437, -1.05884179,  0.09984215,  0.20017264]])"
      ]
     },
     "execution_count": 18,
     "metadata": {},
     "output_type": "execute_result"
    }
   ],
   "source": [
    "\n",
    "# method 3(For normalisation):- Formula as given in above example explanation that is-- Xnew=(Xold-Mean)/(standard deviation)\n",
    "# Z - score Method or standard Method--\n",
    "\"\"\"This method is not considered for the above problen as this method is not used for normalise data in [0,1]\"\"\"\n",
    "mean=arr2.mean()\n",
    "std=arr2.std()\n",
    "zarray=(arr2-mean)/std\n",
    "zarray"
   ]
  },
  {
   "cell_type": "code",
   "execution_count": 19,
   "metadata": {},
   "outputs": [],
   "source": [
    "# Q4. How would you check if your numpy array has some missing values?\n",
    "\n",
    "# Hint: Thoda research karo numpy me existing functions hai\n",
    "#Ans4 - Research kr rhe hain \n",
    "# There is a function \"np.isnan()\".. but having problenm in passing arguments here like below\n",
    "# \"TypeError: ufunc 'isnan' not supported for the input types, \n",
    "#           and the inputs could not be safely coerced to any supported types according to the casting rule ''safe''\""
   ]
  },
  {
   "cell_type": "code",
   "execution_count": 20,
   "metadata": {},
   "outputs": [
    {
     "name": "stdout",
     "output_type": "stream",
     "text": [
      "no values missing\n"
     ]
    }
   ],
   "source": [
    "# Not as like isnan() but it check wether any dataa is missing or not\n",
    "def check(arr):\n",
    "    if np.nan in arr:\n",
    "        return print(\"missing values\")\n",
    "    else:\n",
    "        return print(\"no values missing\")\n",
    "check(narray)"
   ]
  },
  {
   "cell_type": "code",
   "execution_count": 21,
   "metadata": {},
   "outputs": [
    {
     "name": "stdout",
     "output_type": "stream",
     "text": [
      "missing values\n"
     ]
    }
   ],
   "source": [
    "ar8=[1,2,np.nan,np.nan,90,88.0,90.0,np.nan]\n",
    "check(ar8)"
   ]
  },
  {
   "cell_type": "code",
   "execution_count": 22,
   "metadata": {},
   "outputs": [
    {
     "data": {
      "text/plain": [
       "array([False, False,  True,  True, False, False, False,  True])"
      ]
     },
     "execution_count": 22,
     "metadata": {},
     "output_type": "execute_result"
    }
   ],
   "source": [
    "\n",
    "# After research foud out this function return an boolean array, 'True' represents data is missing  \n",
    "\n",
    "np.isnan(ar8) # here worked bingo.."
   ]
  },
  {
   "cell_type": "code",
   "execution_count": 23,
   "metadata": {},
   "outputs": [],
   "source": [
    "# Q5. Write a function which will accept 2 arguments.\n",
    "# First: A 1D numpy array arr\n",
    "# Second: An integer n {Please make sure n<=len(arr)}\n",
    "\n",
    "# Output: The output should be the nth largest item out of the array\n",
    "\n",
    "# Example1 : arr=(12,34,40,7,1,0) and n=3, the output should be 12\n",
    "# Example2 : arr=(12,34,40,7,1,0) and n=1, the output should be 40"
   ]
  },
  {
   "cell_type": "code",
   "execution_count": 24,
   "metadata": {},
   "outputs": [
    {
     "data": {
      "text/plain": [
       "18"
      ]
     },
     "execution_count": 24,
     "metadata": {},
     "output_type": "execute_result"
    }
   ],
   "source": [
    "\n",
    "#ans5:\n",
    "#First sorted the array then return the last nth value of the array.\n",
    "#\n",
    "#\n",
    "def nthmax(arr,n):\n",
    "    if n<=len(arr):\n",
    "        arr.sort()\n",
    "        return arr[-n]\n",
    "    else:\n",
    "        raise IndexError('n should not exceed the length of the array {}, which is {}, \\n The value of n was: {}'.format(arr,len(arr),n))\n",
    "a1=np.array([10,18,11,45,78,32])\n",
    "nthmax(a1,4)\n"
   ]
  },
  {
   "cell_type": "code",
   "execution_count": 25,
   "metadata": {},
   "outputs": [
    {
     "data": {
      "text/plain": [
       "12"
      ]
     },
     "execution_count": 25,
     "metadata": {},
     "output_type": "execute_result"
    }
   ],
   "source": [
    "#Test1:\n",
    "a2=np.array([12,34,40,7,1,0])\n",
    "nthmax(a2,3)"
   ]
  },
  {
   "cell_type": "code",
   "execution_count": 26,
   "metadata": {},
   "outputs": [
    {
     "data": {
      "text/plain": [
       "40"
      ]
     },
     "execution_count": 26,
     "metadata": {},
     "output_type": "execute_result"
    }
   ],
   "source": [
    "\n",
    "# Test2:\n",
    "a3=np.array([12,34,40,7,1,0])\n",
    "nthmax(a3,1)"
   ]
  },
  {
   "cell_type": "code",
   "execution_count": null,
   "metadata": {},
   "outputs": [],
   "source": []
  }
 ],
 "metadata": {
  "kernelspec": {
   "display_name": "Python 3",
   "language": "python",
   "name": "python3"
  },
  "language_info": {
   "codemirror_mode": {
    "name": "ipython",
    "version": 3
   },
   "file_extension": ".py",
   "mimetype": "text/x-python",
   "name": "python",
   "nbconvert_exporter": "python",
   "pygments_lexer": "ipython3",
   "version": "3.7.3"
  }
 },
 "nbformat": 4,
 "nbformat_minor": 2
}
