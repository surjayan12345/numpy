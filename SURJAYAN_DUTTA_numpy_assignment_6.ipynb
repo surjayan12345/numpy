{
  "nbformat": 4,
  "nbformat_minor": 0,
  "metadata": {
    "colab": {
      "name": "SURJAYAN DUTTA - numpy-assignment-6.ipynb",
      "provenance": []
    },
    "kernelspec": {
      "name": "python3",
      "display_name": "Python 3"
    }
  },
  "cells": [
    {
      "cell_type": "code",
      "metadata": {
        "id": "6PAefYSKHONH",
        "colab_type": "code",
        "colab": {}
      },
      "source": [
        "# You have write a function which takes 2 numpy array as input and returns \"Hoga\" or \"Nahi Hoga\" \n",
        "import numpy as np\n",
        "def hoga_ki_nahi(arr1,arr2):\n",
        "  try:\n",
        "    arr1+arr2\n",
        "    return \"Hoga\"\n",
        "  except ValueError:\n",
        "    return \"Nahi Hoga\"\n"
      ],
      "execution_count": 0,
      "outputs": []
    },
    {
      "cell_type": "code",
      "metadata": {
        "id": "LtPSvg-4HjEv",
        "colab_type": "code",
        "colab": {}
      },
      "source": [
        "# Write your logic here\n",
        "def hoga_ki_nahi(arr1,arr2):\n",
        "  return #\"Hoga\"/\"Nahi Hoga\""
      ],
      "execution_count": 0,
      "outputs": []
    },
    {
      "cell_type": "code",
      "metadata": {
        "id": "BGp93pIEHsOG",
        "colab_type": "code",
        "colab": {}
      },
      "source": [
        "# Test your function here\n",
        "def broadcast(ar1,ar2):\n",
        "    d1=np.ndim(ar1)\n",
        "    d2=np.ndim(ar2)\n",
        "    s1=np.shape(ar1)\n",
        "    s2=np.shape(ar2)\n",
        "    if s1==s2:\n",
        "        return \"Hogia\"\n",
        "    else:\n",
        "        for i in range(min(d1,d2)):\n",
        "            if s1[-1-i]!=s2[-1-i]:\n",
        "                if s1[-1-i]==1 or s2[-1-i]==1:\n",
        "                    continue\n",
        "                else:\n",
        "                    return \"Nahi hoga\"\n",
        "            else:\n",
        "                continue\n",
        "        return \"Hoiga\""
      ],
      "execution_count": 0,
      "outputs": []
    },
    {
      "cell_type": "code",
      "metadata": {
        "id": "jz_2U5LRH2xy",
        "colab_type": "code",
        "colab": {
          "base_uri": "https://localhost:8080/",
          "height": 51
        },
        "outputId": "c78c8c64-d6c5-4716-d77e-ca9a0415cd9d"
      },
      "source": [
        "y=np.arange(168).reshape(4,2,3,7)\n",
        "x=np.arange(6).reshape(2,3)\n",
        "\n",
        "print(hoga_ki_nahi(x,y))\n",
        "print(broadcast(x,y))"
      ],
      "execution_count": 4,
      "outputs": [
        {
          "output_type": "stream",
          "text": [
            "Nahi Hoga\n",
            "Nahi hoga\n"
          ],
          "name": "stdout"
        }
      ]
    }
  ]
}